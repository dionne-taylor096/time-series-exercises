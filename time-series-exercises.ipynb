{
 "cells": [
  {
   "cell_type": "code",
   "execution_count": 1,
   "id": "d12c4554",
   "metadata": {},
   "outputs": [],
   "source": [
    "import requests\n",
    "import os\n",
    "import acquire"
   ]
  },
  {
   "cell_type": "code",
   "execution_count": null,
   "id": "ec1b6da7",
   "metadata": {},
   "outputs": [],
   "source": [
    "# https://aphorisms.glitch.me returns a random quotation\n",
    "response = requests.get('http://aphorisms.glitch.me/')\n",
    "response"
   ]
  },
  {
   "cell_type": "code",
   "execution_count": null,
   "id": "6cb4d1de",
   "metadata": {},
   "outputs": [],
   "source": [
    "response.ok"
   ]
  },
  {
   "cell_type": "code",
   "execution_count": null,
   "id": "46a81fb6",
   "metadata": {},
   "outputs": [],
   "source": [
    "response.status_code"
   ]
  },
  {
   "cell_type": "code",
   "execution_count": null,
   "id": "2b663c54",
   "metadata": {},
   "outputs": [],
   "source": [
    "response.text"
   ]
  },
  {
   "cell_type": "code",
   "execution_count": null,
   "id": "c990d1ed",
   "metadata": {},
   "outputs": [],
   "source": [
    "url = 'https://swapi.dev/api/people/5'\n",
    "response = requests.get(url)\n",
    "print(response.text)"
   ]
  },
  {
   "cell_type": "code",
   "execution_count": null,
   "id": "be40d221",
   "metadata": {},
   "outputs": [],
   "source": [
    "data = response.json()\n",
    "print(type(data))\n",
    "data"
   ]
  },
  {
   "cell_type": "code",
   "execution_count": null,
   "id": "e1d24873",
   "metadata": {},
   "outputs": [],
   "source": [
    "root_url = 'https://swapi.dev/api/'\n",
    "response = requests.get(root_url)\n",
    "print(response)\n",
    "response.json()"
   ]
  },
  {
   "cell_type": "code",
   "execution_count": null,
   "id": "c766de4f",
   "metadata": {},
   "outputs": [],
   "source": [
    "response = requests.get('https://swapi.dev/api/people/')\n",
    "\n",
    "data = response.json()\n",
    "data.keys()"
   ]
  },
  {
   "cell_type": "code",
   "execution_count": null,
   "id": "b97b8e1d",
   "metadata": {},
   "outputs": [],
   "source": [
    "response = requests.get('https://swapi.dev/api/people/')\n",
    "\n",
    "data = response.json()\n",
    "data.values()"
   ]
  },
  {
   "cell_type": "code",
   "execution_count": null,
   "id": "b26f7646",
   "metadata": {},
   "outputs": [],
   "source": [
    "number_of_people = data['count']\n",
    "next_page = data['next']\n",
    "previous_page = data['previous']\n",
    "\n",
    "print(f'number_of_people: {number_of_people}')\n",
    "print(f'next_page: {next_page}')\n",
    "print(f'previous_page: {previous_page}')"
   ]
  },
  {
   "cell_type": "code",
   "execution_count": null,
   "id": "d780d6a0",
   "metadata": {},
   "outputs": [],
   "source": [
    "data['results'][:2]"
   ]
  },
  {
   "cell_type": "code",
   "execution_count": null,
   "id": "63978ff6",
   "metadata": {},
   "outputs": [],
   "source": [
    "import math\n",
    "\n",
    "number_of_results = len(data['results'])\n",
    "max_page = math.ceil(number_of_people / number_of_results)\n",
    "\n",
    "print(f'number_of_results: {number_of_results}')\n",
    "print(f'max_page: {max_page}')"
   ]
  },
  {
   "cell_type": "code",
   "execution_count": null,
   "id": "8b0697c4",
   "metadata": {},
   "outputs": [],
   "source": [
    "import pandas as pd\n",
    "\n",
    "df = pd.DataFrame(data['results'])\n",
    "df.head()"
   ]
  },
  {
   "cell_type": "code",
   "execution_count": null,
   "id": "e74fc90a",
   "metadata": {},
   "outputs": [],
   "source": [
    "df.shape"
   ]
  },
  {
   "cell_type": "code",
   "execution_count": null,
   "id": "9d3a1a05",
   "metadata": {},
   "outputs": [],
   "source": [
    "response = requests.get(data['next'])\n",
    "data = response.json()\n",
    "\n",
    "number_of_people = data['count']\n",
    "next_page = data['next']\n",
    "previous_page = data['previous']\n",
    "number_of_results = len(data['results'])\n",
    "max_page = math.ceil(number_of_people / number_of_results)\n",
    "\n",
    "print(f'number_of_people: {number_of_people}')\n",
    "print(f'next_page: {next_page}')\n",
    "print(f'previous_page: {previous_page}')\n",
    "print(f'number_of_results: {number_of_results}')\n",
    "print(f'max_page: {max_page}')\n",
    "\n",
    "df = pd.concat([df, pd.DataFrame(data['results'])]).reset_index()"
   ]
  },
  {
   "cell_type": "code",
   "execution_count": null,
   "id": "7eaad2e9",
   "metadata": {},
   "outputs": [],
   "source": [
    "response = requests.get(data['next'])\n",
    "data = response.json()\n",
    "\n",
    "number_of_people = data['count']\n",
    "next_page = data['next']\n",
    "previous_page = data['previous']\n",
    "number_of_results = len(data['results'])\n",
    "max_page = math.ceil(number_of_people / number_of_results)\n",
    "\n",
    "print(f'number_of_people: {number_of_people}')\n",
    "print(f'next_page: {next_page}')\n",
    "print(f'previous_page: {previous_page}')\n",
    "print(f'number_of_results: {number_of_results}')\n",
    "print(f'max_page: {max_page}')\n",
    "\n",
    "df = pd.concat([df, pd.DataFrame(data['results'])]).reset_index()"
   ]
  },
  {
   "cell_type": "code",
   "execution_count": null,
   "id": "3549a458",
   "metadata": {},
   "outputs": [],
   "source": [
    "df.shape"
   ]
  },
  {
   "cell_type": "code",
   "execution_count": null,
   "id": "5807f5c7",
   "metadata": {},
   "outputs": [],
   "source": [
    "url = 'https://swapi.dev/api/people/?page=9'\n",
    "response = requests.get(url)\n",
    "data = response.json()\n",
    "\n",
    "number_of_people = data['count']\n",
    "next_page = data['next']\n",
    "previous_page = data['previous']\n",
    "number_of_results = len(data['results'])\n",
    "\n",
    "print(f'number_of_people: {number_of_people}')\n",
    "print(f'next_page: {next_page}')\n",
    "print(f'previous_page: {previous_page}')\n",
    "print(f'number_of_results: {number_of_results}')"
   ]
  },
  {
   "cell_type": "code",
   "execution_count": null,
   "id": "05545d02",
   "metadata": {},
   "outputs": [],
   "source": [
    "response = requests.get('https://swapi.dev/api/people/')\n",
    "\n",
    "data = response.json()"
   ]
  },
  {
   "cell_type": "code",
   "execution_count": null,
   "id": "54dfb564",
   "metadata": {},
   "outputs": [],
   "source": [
    "data"
   ]
  },
  {
   "cell_type": "code",
   "execution_count": null,
   "id": "1cd55bd0",
   "metadata": {},
   "outputs": [],
   "source": [
    "import pandas as pd\n",
    "\n",
    "df = pd.DataFrame(data['results'])\n",
    "df.head()"
   ]
  },
  {
   "cell_type": "code",
   "execution_count": null,
   "id": "5ccc0f40",
   "metadata": {},
   "outputs": [],
   "source": [
    "import requests\n",
    "import pandas as pd\n",
    "\n",
    "def fetch_data(url):\n",
    "    data = []\n",
    "\n",
    "    while url:\n",
    "        response = requests.get(url)\n",
    "        json_data = response.json()\n",
    "        data.extend(json_data[\"results\"])\n",
    "        url = json_data[\"next\"]\n",
    "\n",
    "    return data\n",
    "\n",
    "def create_people_dataframe():\n",
    "    base_url = \"https://swapi.dev/api/\"\n",
    "    people_url = f\"{base_url}people/\"\n",
    "\n",
    "    people_data = fetch_data(people_url)\n",
    "    people_df = pd.DataFrame(people_data)\n",
    "\n",
    "    return people_df\n",
    "\n",
    "# Call the function to create the people dataframe\n",
    "people_df = create_people_dataframe()\n",
    "\n",
    "# Print the first few rows of the dataframe\n",
    "print(people_df.head())"
   ]
  },
  {
   "cell_type": "code",
   "execution_count": null,
   "id": "3ed0d613",
   "metadata": {},
   "outputs": [],
   "source": [
    "people_df"
   ]
  },
  {
   "cell_type": "code",
   "execution_count": null,
   "id": "a8566bf4",
   "metadata": {},
   "outputs": [],
   "source": [
    "people_df.to_csv('people.csv', index=False)"
   ]
  },
  {
   "cell_type": "code",
   "execution_count": null,
   "id": "772da220",
   "metadata": {},
   "outputs": [],
   "source": [
    "people_df"
   ]
  },
  {
   "cell_type": "code",
   "execution_count": null,
   "id": "c245557b",
   "metadata": {},
   "outputs": [],
   "source": [
    "import requests\n",
    "import pandas as pd\n",
    "\n",
    "def fetch_data(url):\n",
    "    data = []\n",
    "\n",
    "    while url:\n",
    "        response = requests.get(url)\n",
    "        json_data = response.json()\n",
    "        data.extend(json_data[\"results\"])\n",
    "        url = json_data[\"next\"]\n",
    "\n",
    "    return data\n",
    "\n",
    "def create_planets_dataframe():\n",
    "    base_url = \"https://swapi.dev/api/\"\n",
    "    planets_url = f\"{base_url}planets/\"\n",
    "\n",
    "    planets_data = fetch_data(planets_url)\n",
    "    planets_df = pd.DataFrame(planets_data)\n",
    "\n",
    "    return planets_df\n",
    "\n",
    "# Call the function to create the people dataframe\n",
    "planets_df = create_planets_dataframe()\n",
    "# Print the first few rows of the dataframe\n",
    "print(planets_df.head())\n",
    "planets_df.to_csv('planets.csv', index=False)"
   ]
  },
  {
   "cell_type": "code",
   "execution_count": null,
   "id": "42383bf4",
   "metadata": {},
   "outputs": [],
   "source": [
    "planets_df.to_csv('planets.csv', index=False)"
   ]
  },
  {
   "cell_type": "code",
   "execution_count": null,
   "id": "6ae73fa9",
   "metadata": {},
   "outputs": [],
   "source": [
    "# Call the function to create the people dataframe\n",
    "planets_df"
   ]
  },
  {
   "cell_type": "code",
   "execution_count": null,
   "id": "1804036a",
   "metadata": {},
   "outputs": [],
   "source": [
    "import requests\n",
    "import pandas as pd\n",
    "\n",
    "def fetch_data(url):\n",
    "    data = []\n",
    "\n",
    "    while url:\n",
    "        response = requests.get(url)\n",
    "        json_data = response.json()\n",
    "        data.extend(json_data[\"results\"])\n",
    "        url = json_data[\"next\"]\n",
    "\n",
    "    return data\n",
    "\n",
    "def create_starships_dataframe():\n",
    "    base_url = \"https://swapi.dev/api/\"\n",
    "    starships_url = f\"{base_url}starships/\"\n",
    "\n",
    "    starships_data = fetch_data(starships_url)\n",
    "    starships_df = pd.DataFrame(starships_data)\n",
    "    starships_df.to_csv('starships.csv', index=False)\n",
    "    return starships_df\n",
    "\n",
    "# Call the function to create the people dataframe\n",
    "starships_df = create_starships_dataframe()\n",
    "# Print the first few rows of the dataframe\n",
    "print(starships_df.head())"
   ]
  },
  {
   "cell_type": "code",
   "execution_count": null,
   "id": "12f68bb6",
   "metadata": {},
   "outputs": [],
   "source": [
    "starships_df.to_csv('starships.csv', index=False)"
   ]
  },
  {
   "cell_type": "code",
   "execution_count": null,
   "id": "6ebf4ae0",
   "metadata": {},
   "outputs": [],
   "source": [
    "starships_df"
   ]
  },
  {
   "cell_type": "code",
   "execution_count": null,
   "id": "d59634e1",
   "metadata": {},
   "outputs": [],
   "source": [
    "starwars_df = pd.concat([people_df, planets_df, starships_df], ignore_index=True)\n",
    "\n",
    "# Print the combined dataframe\n",
    "print(starwars_df)"
   ]
  },
  {
   "cell_type": "code",
   "execution_count": null,
   "id": "679e4c85",
   "metadata": {},
   "outputs": [],
   "source": [
    "starwars_df"
   ]
  },
  {
   "cell_type": "code",
   "execution_count": null,
   "id": "d2ec4879",
   "metadata": {},
   "outputs": [],
   "source": [
    "import requests\n",
    "import pandas as pd\n",
    "\n",
    "def grab_csv_data(api_url, output_file):\n",
    "    response = requests.get(api_url)\n",
    "\n",
    "    if response.status_code == 200:\n",
    "        csv_data = response.text\n",
    "        with open(output_file, 'w') as f:\n",
    "            f.write(csv_data)\n",
    "        print(f\"CSV data saved to {output_file}\")\n",
    "    else:\n",
    "        print(f\"Request failed with status code {response.status_code}\")\n",
    "\n",
    "# Example usage:\n",
    "api_url = \"https://raw.githubusercontent.com/jenfly/opsd/master/opsd_germany_daily.csv\"\n",
    "output_file = \"opsd_germany_daily.csv\"\n",
    "\n",
    "grab_csv_data(api_url, output_file)"
   ]
  },
  {
   "cell_type": "code",
   "execution_count": null,
   "id": "801a188a",
   "metadata": {},
   "outputs": [],
   "source": [
    "opsd = pd.read_csv('opsd_germany_daily.csv')"
   ]
  },
  {
   "cell_type": "code",
   "execution_count": null,
   "id": "b32bf26c",
   "metadata": {},
   "outputs": [],
   "source": [
    "opsd"
   ]
  },
  {
   "cell_type": "code",
   "execution_count": null,
   "id": "3b972698",
   "metadata": {},
   "outputs": [],
   "source": [
    "df = acquire.create_planets_dataframe()"
   ]
  },
  {
   "cell_type": "code",
   "execution_count": null,
   "id": "ed3acbce",
   "metadata": {},
   "outputs": [],
   "source": [
    "df"
   ]
  },
  {
   "cell_type": "code",
   "execution_count": null,
   "id": "9075f756",
   "metadata": {},
   "outputs": [],
   "source": [
    "df1 = acquire.create_people_dataframe()"
   ]
  },
  {
   "cell_type": "code",
   "execution_count": null,
   "id": "a53441ae",
   "metadata": {},
   "outputs": [],
   "source": [
    "df1"
   ]
  },
  {
   "cell_type": "code",
   "execution_count": null,
   "id": "3bd208fa",
   "metadata": {},
   "outputs": [],
   "source": [
    "df2 = acquire.create_starships_dataframe()"
   ]
  },
  {
   "cell_type": "code",
   "execution_count": null,
   "id": "764976ff",
   "metadata": {},
   "outputs": [],
   "source": [
    "df2 "
   ]
  },
  {
   "cell_type": "code",
   "execution_count": 2,
   "id": "1ee2a36e",
   "metadata": {},
   "outputs": [],
   "source": [
    "df3 = acquire.grab_csv_data(\"https://raw.githubusercontent.com/jenfly/opsd/master/opsd_germany_daily.csv\", \"test.csv\")"
   ]
  },
  {
   "cell_type": "code",
   "execution_count": 3,
   "id": "8988177c",
   "metadata": {},
   "outputs": [
    {
     "data": {
      "text/html": [
       "<div>\n",
       "<style scoped>\n",
       "    .dataframe tbody tr th:only-of-type {\n",
       "        vertical-align: middle;\n",
       "    }\n",
       "\n",
       "    .dataframe tbody tr th {\n",
       "        vertical-align: top;\n",
       "    }\n",
       "\n",
       "    .dataframe thead th {\n",
       "        text-align: right;\n",
       "    }\n",
       "</style>\n",
       "<table border=\"1\" class=\"dataframe\">\n",
       "  <thead>\n",
       "    <tr style=\"text-align: right;\">\n",
       "      <th></th>\n",
       "      <th>Date</th>\n",
       "      <th>Consumption</th>\n",
       "      <th>Wind</th>\n",
       "      <th>Solar</th>\n",
       "      <th>Wind+Solar</th>\n",
       "    </tr>\n",
       "  </thead>\n",
       "  <tbody>\n",
       "    <tr>\n",
       "      <th>0</th>\n",
       "      <td>2006-01-01</td>\n",
       "      <td>1069.18400</td>\n",
       "      <td>NaN</td>\n",
       "      <td>NaN</td>\n",
       "      <td>NaN</td>\n",
       "    </tr>\n",
       "    <tr>\n",
       "      <th>1</th>\n",
       "      <td>2006-01-02</td>\n",
       "      <td>1380.52100</td>\n",
       "      <td>NaN</td>\n",
       "      <td>NaN</td>\n",
       "      <td>NaN</td>\n",
       "    </tr>\n",
       "    <tr>\n",
       "      <th>2</th>\n",
       "      <td>2006-01-03</td>\n",
       "      <td>1442.53300</td>\n",
       "      <td>NaN</td>\n",
       "      <td>NaN</td>\n",
       "      <td>NaN</td>\n",
       "    </tr>\n",
       "    <tr>\n",
       "      <th>3</th>\n",
       "      <td>2006-01-04</td>\n",
       "      <td>1457.21700</td>\n",
       "      <td>NaN</td>\n",
       "      <td>NaN</td>\n",
       "      <td>NaN</td>\n",
       "    </tr>\n",
       "    <tr>\n",
       "      <th>4</th>\n",
       "      <td>2006-01-05</td>\n",
       "      <td>1477.13100</td>\n",
       "      <td>NaN</td>\n",
       "      <td>NaN</td>\n",
       "      <td>NaN</td>\n",
       "    </tr>\n",
       "    <tr>\n",
       "      <th>...</th>\n",
       "      <td>...</td>\n",
       "      <td>...</td>\n",
       "      <td>...</td>\n",
       "      <td>...</td>\n",
       "      <td>...</td>\n",
       "    </tr>\n",
       "    <tr>\n",
       "      <th>4378</th>\n",
       "      <td>2017-12-27</td>\n",
       "      <td>1263.94091</td>\n",
       "      <td>394.507</td>\n",
       "      <td>16.530</td>\n",
       "      <td>411.037</td>\n",
       "    </tr>\n",
       "    <tr>\n",
       "      <th>4379</th>\n",
       "      <td>2017-12-28</td>\n",
       "      <td>1299.86398</td>\n",
       "      <td>506.424</td>\n",
       "      <td>14.162</td>\n",
       "      <td>520.586</td>\n",
       "    </tr>\n",
       "    <tr>\n",
       "      <th>4380</th>\n",
       "      <td>2017-12-29</td>\n",
       "      <td>1295.08753</td>\n",
       "      <td>584.277</td>\n",
       "      <td>29.854</td>\n",
       "      <td>614.131</td>\n",
       "    </tr>\n",
       "    <tr>\n",
       "      <th>4381</th>\n",
       "      <td>2017-12-30</td>\n",
       "      <td>1215.44897</td>\n",
       "      <td>721.247</td>\n",
       "      <td>7.467</td>\n",
       "      <td>728.714</td>\n",
       "    </tr>\n",
       "    <tr>\n",
       "      <th>4382</th>\n",
       "      <td>2017-12-31</td>\n",
       "      <td>1107.11488</td>\n",
       "      <td>721.176</td>\n",
       "      <td>19.980</td>\n",
       "      <td>741.156</td>\n",
       "    </tr>\n",
       "  </tbody>\n",
       "</table>\n",
       "<p>4383 rows × 5 columns</p>\n",
       "</div>"
      ],
      "text/plain": [
       "            Date  Consumption     Wind   Solar  Wind+Solar\n",
       "0     2006-01-01   1069.18400      NaN     NaN         NaN\n",
       "1     2006-01-02   1380.52100      NaN     NaN         NaN\n",
       "2     2006-01-03   1442.53300      NaN     NaN         NaN\n",
       "3     2006-01-04   1457.21700      NaN     NaN         NaN\n",
       "4     2006-01-05   1477.13100      NaN     NaN         NaN\n",
       "...          ...          ...      ...     ...         ...\n",
       "4378  2017-12-27   1263.94091  394.507  16.530     411.037\n",
       "4379  2017-12-28   1299.86398  506.424  14.162     520.586\n",
       "4380  2017-12-29   1295.08753  584.277  29.854     614.131\n",
       "4381  2017-12-30   1215.44897  721.247   7.467     728.714\n",
       "4382  2017-12-31   1107.11488  721.176  19.980     741.156\n",
       "\n",
       "[4383 rows x 5 columns]"
      ]
     },
     "execution_count": 3,
     "metadata": {},
     "output_type": "execute_result"
    }
   ],
   "source": [
    "df3"
   ]
  },
  {
   "cell_type": "code",
   "execution_count": null,
   "id": "7ad96705",
   "metadata": {},
   "outputs": [],
   "source": [
    "df = grab_csv_data(api_url, output_file)"
   ]
  }
 ],
 "metadata": {
  "kernelspec": {
   "display_name": "Python 3 (ipykernel)",
   "language": "python",
   "name": "python3"
  },
  "language_info": {
   "codemirror_mode": {
    "name": "ipython",
    "version": 3
   },
   "file_extension": ".py",
   "mimetype": "text/x-python",
   "name": "python",
   "nbconvert_exporter": "python",
   "pygments_lexer": "ipython3",
   "version": "3.9.13"
  }
 },
 "nbformat": 4,
 "nbformat_minor": 5
}
